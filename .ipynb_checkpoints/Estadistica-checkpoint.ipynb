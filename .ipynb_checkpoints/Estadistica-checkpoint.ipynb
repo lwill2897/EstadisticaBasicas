{
 "cells": [
  {
   "attachments": {
    "image.png": {
     "image/png": "[encoded data removed]"
    }
   },
   "cell_type": "markdown",
   "metadata": {},
   "source": [
    "# Estadistica Basica\n",
    "\n",
    "## Medidas de centralización\n",
    "   \n",
    "   - Medida aritmetica\n",
    "\n",
    "Para calcular la media se suman todos los valores de los datos y se divide por el número total.\n",
    "Cuando los datos se repiten, es más fácil formar la tabla de frecuencias y sumar los productos de cada valor por las veces que se repite, después dividimos por el nº total de datos.\n",
    "![image.png](attachment:image.png)"
   ]
  },
  {
   "cell_type": "code",
   "execution_count": 2,
   "metadata": {},
   "outputs": [],
   "source": [
    "import matplotlib as plt\n",
    "import pandas as pd\n",
    "import numpy as np"
   ]
  },
  {
   "cell_type": "code",
   "execution_count": null,
   "metadata": {},
   "outputs": [],
   "source": []
  }
 ],
 "metadata": {
  "kernelspec": {
   "display_name": "Python 3",
   "language": "python",
   "name": "python3"
  },
  "language_info": {
   "codemirror_mode": {
    "name": "ipython",
    "version": 3
   },
   "file_extension": ".py",
   "mimetype": "text/x-python",
   "name": "python",
   "nbconvert_exporter": "python",
   "pygments_lexer": "ipython3",
   "version": "3.8.2"
  }
 },
 "nbformat": 4,
 "nbformat_minor": 4
}
