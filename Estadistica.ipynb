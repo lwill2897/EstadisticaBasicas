{
 "cells": [
  {
   "cell_type": "markdown",
   "metadata": {},
   "source": [
    "# Estadistica Basica\n",
    "\n",
    "## Medidas de centralización\n",
    "   \n",
    "   * Medida aritmetica\n",
    "\n",
    "Para calcular la media se suman todos los valores de los datos y se divide por el número total.\n",
    "Cuando los datos se repiten, es más fácil formar la tabla de frecuencias y sumar los productos de cada valor por las veces que se repite, después dividimos por el nº total de datos.\n",
    "<img src=\"http://matematicasblecua.ftp.catedu.es/bacmat/images/formulas/media.gif\">\n",
    "\n",
    "    * La moda\n",
    "La moda de una variable estadística es el valor más repetido, el que tiene mayor frecuencia absoluta.\n",
    "Si la variable es discreta se busca el valor de mayor frecuencia.\n",
    "Si los datos están agrupados, la clase de mayor frecuencia se llama clase modal. A veces se toma la marca de clase de la clase modal como valor de la moda, pero es más preciso utilizar la fórmula:\n",
    "<img src=\"http://matematicasblecua.ftp.catedu.es/bacmat/images/formulas/moda.gif\">\n",
    "\n",
    "    * La mediana\n",
    "Suponiendo que todos los datos están ordenados la mediana es el valor que ocupa la posición central, de modo que la mitad de los datos son menores y la otra mitad son mayores.\n",
    "Cuando la variable es discreta la mediana es el primer valor cuya frecuencia acumulada es mayor que n/2.\n",
    "<img src=\"http://matematicasblecua.ftp.catedu.es/bacmat/images/formulas/mediana.gif\">"
   ]
  },
  {
   "cell_type": "code",
   "execution_count": 16,
   "metadata": {},
   "outputs": [
    {
     "name": "stdout",
     "output_type": "stream",
     "text": [
      "31\n"
     ]
    }
   ],
   "source": [
    "import statistics as stats\n",
    "\n",
    "edades = [22, 23, 26, 26, 26, 34, 34, 38, 40, 41]\n",
    "print(stats.mean(edades))  # 31"
   ]
  },
  {
   "cell_type": "code",
   "execution_count": 17,
   "metadata": {},
   "outputs": [
    {
     "name": "stdout",
     "output_type": "stream",
     "text": [
      "26\n"
     ]
    }
   ],
   "source": [
    "edades = [22, 23, 26, 26, 26, 34, 34, 38, 40, 41]\n",
    "print(stats.mode(edades))  # 26"
   ]
  },
  {
   "cell_type": "code",
   "execution_count": 18,
   "metadata": {},
   "outputs": [
    {
     "name": "stdout",
     "output_type": "stream",
     "text": [
      "29.511845929087578\n"
     ]
    }
   ],
   "source": [
    "edades = [22, 23, 26, 26, 26, 34, 34, 38, 40, 41]\n",
    "print(stats.harmonic_mean(edades))  # 30.89"
   ]
  },
  {
   "cell_type": "markdown",
   "metadata": {},
   "source": [
    "# Medidas de Disperción\n",
    "    - Varianza\n",
    "Es otro parámetro utilizado para medir la dispersión de los valores de una variable respecto a la media. Corresponde a la media aritmética de los cuadrados de las desviaciones respecto a la media. Su expresión matemática es:\n",
    "\n",
    "<img src=\"https://www.ecured.cu/images/thumb/f/fd/DesvMedia.jpg/180px-DesvMedia.jpg\">\n",
    "donde Xi es el dato i-ésimo y Xbarra.png es la media de los N datos.\n",
    "\n",
    "    - Coeficiente de variación\n",
    "Permite determinar la razón existente entre la desviación estándar (s) y la media. Se denota como CV. El coeficiente de variación permite decidir con mayor claridad sobre la dispersión de los datos.\n",
    "\n",
    "<img src=\"https://economipedia.com/wp-content/uploads/Coeficiente-de-variaci%C3%B3n-e1506596023111.jpg\">\n",
    "\n",
    "También puede ser expresado en por ciento.\n",
    "\n",
    "    - Desviación tipica\n",
    "La primera es elevando al cuadrado las desviaciones, dividir entre el número total de observaciones y por último hacer la raíz cuadrada para deshacer el elevado al cuadrado, tal que:\n",
    "<img src=\"http://1.bp.blogspot.com/-9M5kStfMWGQ/VWOvoLBWp5I/AAAAAAAAAQc/W8Z1sYVgHjE/s1600/Desviacion_tipica_formula.gif\">"
   ]
  },
  {
   "cell_type": "code",
   "execution_count": 14,
   "metadata": {},
   "outputs": [
    {
     "data": {
      "text/plain": [
       "(array([  9.,  26.,  65., 145., 227., 246., 166.,  79.,  31.,   6.]),\n",
       " array([-0.30943151, -0.24906019, -0.18868887, -0.12831755, -0.06794623,\n",
       "        -0.0075749 ,  0.05279642,  0.11316774,  0.17353906,  0.23391038,\n",
       "         0.2942817 ]),\n",
       " <a list of 10 Patch objects>)"
      ]
     },
     "execution_count": 14,
     "metadata": {},
     "output_type": "execute_result"
    },
    {
     "data": {
      "image/png": "[encoded data removed]",
      "text/plain": [
       "<Figure size 432x288 with 1 Axes>"
      ]
     },
     "metadata": {
      "needs_background": "light"
     },
     "output_type": "display_data"
    }
   ],
   "source": [
    "import numpy\n",
    "sample_data = numpy.random.normal(0, 0.1, 1000)\n",
    "\n",
    "plt.hist(sample_data)"
   ]
  },
  {
   "cell_type": "markdown",
   "metadata": {},
   "source": [
    "# Momento de orden respecto a la media\n",
    "Llamaremos, pues, de ahora en adelante, la media de la distribución de la variable o media poblacional con la letra griega .\n",
    "Luego el momento de orden  respecto a , en variables discretas, es:\n",
    "<img src=\"https://virtual.uptc.edu.co/ova/estadistica/docs/2/images/38_clip_image013.gif\">\n",
    "\n",
    "En variables continuas, es:\n",
    "<img src=\"https://virtual.uptc.edu.co/ova/estadistica/docs/2/images/38_clip_image015.gif\">\n",
    "El momento de orden uno o primer momento, con respecto a  es igual a cero , o sea :\n",
    "<img src=\"https://virtual.uptc.edu.co/ova/estadistica/docs/2/images/38_clip_image017.gif\">"
   ]
  },
  {
   "attachments": {},
   "cell_type": "markdown",
   "metadata": {},
   "source": [
    "# Medidas asimetricas\n",
    "    - Asimetría de Fisher\n",
    "Cuando al trazar una vertical, en el diagrama de barras o histograma, de una variable, según sea esta discreta o continua, por el valor de la media, esta vertical, se transforma en eje de simetría, decimos que la distribución es simétrica. En caso contrario, dicha distribución será asimétrica o diremos que presenta asimetría.etría.etría.etría.etría.\n",
    "<img src=\"https://www.monografias.com/trabajos87/medidas-forma-asimetria-curtosis/image010.png\">\n",
    "\n",
    "    - Curtosis \n",
    "La curtosis mide el grado de agudeza o achatamiento de una distribución con relación a la distribución normal, es decir, mide cuán puntiaguda es una distribución.\n",
    "TIPOS DE CURTOSIS\n",
    "La curtosis determina el grado de concentración que presentan los valores en la región central de la distribución. Así puede ser:\n",
    "Leptocúrtica.- Existe una gran concentración.\n",
    "Mesocúrtica.- Existe una concentración normal.\n",
    "Platicúrtica.- Existe una baja concentración.\n",
    "<img src=\"https://www.monografias.com/trabajos87/medidas-forma-asimetria-curtosis/image041.png\">\n",
    "\n"
   ]
  },
  {
   "cell_type": "code",
   "execution_count": 10,
   "metadata": {},
   "outputs": [
    {
     "data": {
      "text/html": [
       "<div>\n",
       "<style scoped>\n",
       "    .dataframe tbody tr th:only-of-type {\n",
       "        vertical-align: middle;\n",
       "    }\n",
       "\n",
       "    .dataframe tbody tr th {\n",
       "        vertical-align: top;\n",
       "    }\n",
       "\n",
       "    .dataframe thead th {\n",
       "        text-align: right;\n",
       "    }\n",
       "</style>\n",
       "<table border=\"1\" class=\"dataframe\">\n",
       "  <thead>\n",
       "    <tr style=\"text-align: right;\">\n",
       "      <th></th>\n",
       "      <th>sepal_length</th>\n",
       "      <th>sepal_width</th>\n",
       "      <th>petal_length</th>\n",
       "      <th>petal_width</th>\n",
       "      <th>species</th>\n",
       "    </tr>\n",
       "  </thead>\n",
       "  <tbody>\n",
       "    <tr>\n",
       "      <th>0</th>\n",
       "      <td>5.1</td>\n",
       "      <td>3.5</td>\n",
       "      <td>1.4</td>\n",
       "      <td>0.2</td>\n",
       "      <td>setosa</td>\n",
       "    </tr>\n",
       "    <tr>\n",
       "      <th>1</th>\n",
       "      <td>4.9</td>\n",
       "      <td>3.0</td>\n",
       "      <td>1.4</td>\n",
       "      <td>0.2</td>\n",
       "      <td>setosa</td>\n",
       "    </tr>\n",
       "    <tr>\n",
       "      <th>2</th>\n",
       "      <td>4.7</td>\n",
       "      <td>3.2</td>\n",
       "      <td>1.3</td>\n",
       "      <td>0.2</td>\n",
       "      <td>setosa</td>\n",
       "    </tr>\n",
       "    <tr>\n",
       "      <th>3</th>\n",
       "      <td>4.6</td>\n",
       "      <td>3.1</td>\n",
       "      <td>1.5</td>\n",
       "      <td>0.2</td>\n",
       "      <td>setosa</td>\n",
       "    </tr>\n",
       "    <tr>\n",
       "      <th>4</th>\n",
       "      <td>5.0</td>\n",
       "      <td>3.6</td>\n",
       "      <td>1.4</td>\n",
       "      <td>0.2</td>\n",
       "      <td>setosa</td>\n",
       "    </tr>\n",
       "  </tbody>\n",
       "</table>\n",
       "</div>"
      ],
      "text/plain": [
       "   sepal_length  sepal_width  petal_length  petal_width species\n",
       "0           5.1          3.5           1.4          0.2  setosa\n",
       "1           4.9          3.0           1.4          0.2  setosa\n",
       "2           4.7          3.2           1.3          0.2  setosa\n",
       "3           4.6          3.1           1.5          0.2  setosa\n",
       "4           5.0          3.6           1.4          0.2  setosa"
      ]
     },
     "execution_count": 10,
     "metadata": {},
     "output_type": "execute_result"
    }
   ],
   "source": [
    "import pandas as pd\n",
    "\n",
    "iris = pd.read_csv(\"https://raw.githubusercontent.com/toneloy/data/master/iris.csv\")\n",
    "iris.head()"
   ]
  },
  {
   "cell_type": "code",
   "execution_count": 11,
   "metadata": {},
   "outputs": [
    {
     "data": {
      "text/plain": [
       "sepal_length    0.314911\n",
       "sepal_width     0.318966\n",
       "petal_length   -0.274884\n",
       "petal_width    -0.102967\n",
       "dtype: float64"
      ]
     },
     "execution_count": 11,
     "metadata": {},
     "output_type": "execute_result"
    }
   ],
   "source": [
    "iris.skew()"
   ]
  },
  {
   "cell_type": "code",
   "execution_count": 12,
   "metadata": {},
   "outputs": [
    {
     "data": {
      "text/plain": [
       "-0.07692307692307661"
      ]
     },
     "execution_count": 12,
     "metadata": {},
     "output_type": "execute_result"
    }
   ],
   "source": [
    "def quartile_skew(x):\n",
    "  q = x.quantile([.25, .50, .75])\n",
    "  \n",
    "  return ((q[0.75] - q[0.5]) - (q[0.5] - q[0.25])) / (q[0.75] - q[0.25])\n",
    "  \n",
    "quartile_skew(iris[\"sepal_length\"])"
   ]
  },
  {
   "cell_type": "code",
   "execution_count": 13,
   "metadata": {},
   "outputs": [
    {
     "data": {
      "text/plain": [
       "sepal_length   -0.552064\n",
       "sepal_width     0.228249\n",
       "petal_length   -1.402103\n",
       "petal_width    -1.340604\n",
       "dtype: float64"
      ]
     },
     "execution_count": 13,
     "metadata": {},
     "output_type": "execute_result"
    }
   ],
   "source": [
    "iris.kurt()"
   ]
  },
  {
   "attachments": {
    "image.png": {
     "image/png": "[encoded data removed]"
    }
   },
   "cell_type": "markdown",
   "metadata": {},
   "source": [
    "# Muestreo aleatorio y teorema central del limite\n",
    "    - Teorema central del limite\n",
    "![image.png](attachment:image.png)\n",
    "\n",
    "    - TIPOS DE MUESTREOS\n",
    "Muestreo aleatorio simple . Elegimos al azar los elementos de la muestra. Todos los elementos de la población tienen la misma probabilidad de ser elegidos .\n",
    "\n",
    "Muestreo aleatorio sistemático Se elige un individuo al azar y a partir de él, a intervalos constantes, se eligen los demás hasta completar la muestra\n",
    "\n",
    "Muestreo aleatorio estratificado Se divide la población en clases o estratos y se escoge, aleatoriamente, un número de individuos de cada estrato proporcional al número de componentes de cada estrato"
   ]
  },
  {
   "cell_type": "code",
   "execution_count": 6,
   "metadata": {},
   "outputs": [
    {
     "data": {
      "image/png": "[encoded data removed]",
      "text/plain": [
       "<Figure size 720x720 with 4 Axes>"
      ]
     },
     "metadata": {
      "needs_background": "light"
     },
     "output_type": "display_data"
    }
   ],
   "source": [
    "# Ejemplo teorema del límite central\n",
    "import numpy as np\n",
    "import pandas as pd\n",
    "import matplotlib.pyplot as plt\n",
    "\n",
    "muestra_binomial = []\n",
    "muestra_exp = []\n",
    "muestra_possion = []\n",
    "muestra_geometric = []\n",
    "mu = .9\n",
    "lam = 1.0\n",
    "size=1000\n",
    "\n",
    "for i in range(1,20000):\n",
    "    muestra = np.random.binomial(1, mu, size=size)\n",
    "    muestra_binomial.append(muestra.mean())\n",
    "    muestra = np.random.exponential(scale=2.0,size=size)\n",
    "    muestra_exp.append(muestra.mean())\n",
    "    muestra = np.random.geometric(p=.5, size=size)\n",
    "    muestra_geometric.append(muestra.mean())\n",
    "    muestra = np.random.poisson (lam=lam, size=size)\n",
    "    muestra_possion.append(muestra.mean()) \n",
    "\n",
    "df = pd.DataFrame({ 'binomial' : muestra_binomial, \n",
    "                     'poission' : muestra_possion,\n",
    "                     'geometrica' : muestra_geometric,\n",
    "                    'exponencial' : muestra_exp})\n",
    "\n",
    "fig, axes = plt.subplots(nrows=2, ncols=2, figsize=(10,10))\n",
    "df.binomial.hist(ax=axes[0,0], alpha=0.9, bins=1000)\n",
    "df.exponencial.hist(ax=axes[0,1],bins=1000)\n",
    "df.poission.hist(ax=axes[1,0],bins=1000)\n",
    "df.geometrica.hist(ax=axes[1,1],bins=1000)\n",
    "\n",
    "axes[0,0].set_title('Binomial')\n",
    "axes[0,1].set_title('Poisson')\n",
    "axes[1,0].set_title('Geométrica')\n",
    "axes[1,1].set_title('Exponencial')\n",
    "plt.show()"
   ]
  },
  {
   "cell_type": "markdown",
   "metadata": {},
   "source": [
    "# Hipotesis de contraste\n",
    "Una hipótesis estadística es una afirmación respecto a alguna característica de una población.  Contrastar una hipótesis es comparar las predicciones con la realidad que observamos. Si dentro del margen de error que nos permitimos admitir, hay coincidencia, aceptaremos la hipótesis y en caso contrario la rechazaremos.\n",
    "\n",
    "La hipótesis emitida se suele designar por Ho y se llama Hipótesis nula porque parte del supuesto que la diferencias entre el valor verdadero del parámetro y su valor hipotético es debida al azar, es decir no hay diferencia.\n",
    "\n",
    "La hipótesis contraria se designa por H1 y se llama Hipótesis alternativa"
   ]
  },
  {
   "attachments": {
    "image.png": {
     "image/png": "[encoded data removed]"
    }
   },
   "cell_type": "markdown",
   "metadata": {},
   "source": [
    "# Test de la chi - cuadrada\n",
    "Una hipótesis estadística es una afirmación respecto a alguna característica de una población.  Contrastar una hipótesis es comparar las predicciones con la realidad que observamos. Si dentro del margen de error que nos permitimos admitir, hay coincidencia, aceptaremos la hipótesis y en caso contrario la rechazaremos.\n",
    "La hipótesis emitida se suele designar por Ho y se llama Hipótesis nula porque parte del supuesto que la diferencias entre el valor verdadero del parámetro y su valor hipotético es debida al azar, es decir no hay diferencia.\n",
    "La hipótesis contraria se designa por H1 y se llama Hipótesis alternativa\n",
    "![image.png](attachment:image.png)"
   ]
  },
  {
   "cell_type": "code",
   "execution_count": 1,
   "metadata": {},
   "outputs": [],
   "source": [
    "def test_chicuadrado(data,N):\n",
    "    n = data.count()\n",
    "    freqs, edges, _ = ss.binned_statistic(data,data,statistic=\"count\")\n",
    "    def ei(i):\n",
    "        return n*(N.cdf(edges[i])- N.cdf(edges[i-1]))\n",
    "    expected = [ei(i) for i in range(1,len(edges))]\n",
    "    return ss.chisquare(freqs,expected)"
   ]
  },
  {
   "cell_type": "markdown",
   "metadata": {},
   "source": [
    "# Correlación entre variables\n",
    "La Correlación es una técnica estadística usada para determinar la relación entre\n",
    "dos o más variables.\n",
    "La relación entre la duración de una carrera de distancia y el test del escalón, o la\n",
    "relación entre las características de la personalidad y la participación en deportes\n",
    "de alto riesgo.\n",
    "La correlación puede ser de al menos dos variables o de una variable dependiente\n",
    "y dos o más variables independientes, denominada correlación múltiple. \n"
   ]
  },
  {
   "cell_type": "code",
   "execution_count": 8,
   "metadata": {},
   "outputs": [
    {
     "data": {
      "text/html": [
       "<div>\n",
       "<style scoped>\n",
       "    .dataframe tbody tr th:only-of-type {\n",
       "        vertical-align: middle;\n",
       "    }\n",
       "\n",
       "    .dataframe tbody tr th {\n",
       "        vertical-align: top;\n",
       "    }\n",
       "\n",
       "    .dataframe thead th {\n",
       "        text-align: right;\n",
       "    }\n",
       "</style>\n",
       "<table border=\"1\" class=\"dataframe\">\n",
       "  <thead>\n",
       "    <tr style=\"text-align: right;\">\n",
       "      <th></th>\n",
       "      <th>a</th>\n",
       "      <th>b</th>\n",
       "      <th>c</th>\n",
       "    </tr>\n",
       "  </thead>\n",
       "  <tbody>\n",
       "    <tr>\n",
       "      <th>a</th>\n",
       "      <td>1.000000</td>\n",
       "      <td>0.041709</td>\n",
       "      <td>-0.002521</td>\n",
       "    </tr>\n",
       "    <tr>\n",
       "      <th>b</th>\n",
       "      <td>0.041709</td>\n",
       "      <td>1.000000</td>\n",
       "      <td>-0.035513</td>\n",
       "    </tr>\n",
       "    <tr>\n",
       "      <th>c</th>\n",
       "      <td>-0.002521</td>\n",
       "      <td>-0.035513</td>\n",
       "      <td>1.000000</td>\n",
       "    </tr>\n",
       "  </tbody>\n",
       "</table>\n",
       "</div>"
      ],
      "text/plain": [
       "          a         b         c\n",
       "a  1.000000  0.041709 -0.002521\n",
       "b  0.041709  1.000000 -0.035513\n",
       "c -0.002521 -0.035513  1.000000"
      ]
     },
     "execution_count": 8,
     "metadata": {},
     "output_type": "execute_result"
    }
   ],
   "source": [
    "df = pd.DataFrame(np.random.randn(1000, 3), columns=['a', 'b', 'c'])\n",
    "\n",
    "df.corr()"
   ]
  },
  {
   "cell_type": "code",
   "execution_count": 9,
   "metadata": {},
   "outputs": [
    {
     "data": {
      "text/html": [
       "<div>\n",
       "<style scoped>\n",
       "    .dataframe tbody tr th:only-of-type {\n",
       "        vertical-align: middle;\n",
       "    }\n",
       "\n",
       "    .dataframe tbody tr th {\n",
       "        vertical-align: top;\n",
       "    }\n",
       "\n",
       "    .dataframe thead th {\n",
       "        text-align: right;\n",
       "    }\n",
       "</style>\n",
       "<table border=\"1\" class=\"dataframe\">\n",
       "  <thead>\n",
       "    <tr style=\"text-align: right;\">\n",
       "      <th></th>\n",
       "      <th>a</th>\n",
       "      <th>b</th>\n",
       "      <th>c</th>\n",
       "    </tr>\n",
       "  </thead>\n",
       "  <tbody>\n",
       "    <tr>\n",
       "      <th>a</th>\n",
       "      <td>1.000000</td>\n",
       "      <td>0.041709</td>\n",
       "      <td>-0.002521</td>\n",
       "    </tr>\n",
       "    <tr>\n",
       "      <th>b</th>\n",
       "      <td>0.041709</td>\n",
       "      <td>1.000000</td>\n",
       "      <td>-0.035513</td>\n",
       "    </tr>\n",
       "    <tr>\n",
       "      <th>c</th>\n",
       "      <td>-0.002521</td>\n",
       "      <td>-0.035513</td>\n",
       "      <td>1.000000</td>\n",
       "    </tr>\n",
       "  </tbody>\n",
       "</table>\n",
       "</div>"
      ],
      "text/plain": [
       "          a         b         c\n",
       "a  1.000000  0.041709 -0.002521\n",
       "b  0.041709  1.000000 -0.035513\n",
       "c -0.002521 -0.035513  1.000000"
      ]
     },
     "execution_count": 9,
     "metadata": {},
     "output_type": "execute_result"
    }
   ],
   "source": [
    "df.corr(method='spearman')"
   ]
  },
  {
   "cell_type": "code",
   "execution_count": null,
   "metadata": {},
   "outputs": [],
   "source": []
  }
 ],
 "metadata": {
  "kernelspec": {
   "display_name": "Python 3",
   "language": "python",
   "name": "python3"
  },
  "language_info": {
   "codemirror_mode": {
    "name": "ipython",
    "version": 3
   },
   "file_extension": ".py",
   "mimetype": "text/x-python",
   "name": "python",
   "nbconvert_exporter": "python",
   "pygments_lexer": "ipython3",
   "version": "3.8.2"
  }
 },
 "nbformat": 4,
 "nbformat_minor": 4
}
